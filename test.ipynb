{
 "cells": [
  {
   "cell_type": "code",
   "execution_count": 16,
   "metadata": {},
   "outputs": [
    {
     "name": "stdout",
     "output_type": "stream",
     "text": [
      "environ({'CHROME_DESKTOP': 'code.desktop', 'DBUS_SESSION_BUS_ADDRESS': 'unix:path=/run/user/1000/bus', 'DEBUGINFOD_URLS': 'https://debuginfod.ubuntu.com ', 'DESKTOP_SESSION': 'ubuntu', 'DISPLAY': ':1', 'GDK_BACKEND': 'x11', 'GDMSESSION': 'ubuntu', 'GIO_LAUNCHED_DESKTOP_FILE': '/usr/share/applications/code.desktop', 'GIO_LAUNCHED_DESKTOP_FILE_PID': '25207', 'GJS_DEBUG_OUTPUT': 'stderr', 'GJS_DEBUG_TOPICS': 'JS ERROR;JS LOG', 'GNOME_DESKTOP_SESSION_ID': 'this-is-deprecated', 'GNOME_SHELL_SESSION_MODE': 'ubuntu', 'GPG_AGENT_INFO': '/run/user/1000/gnupg/S.gpg-agent:0:1', 'GSM_SKIP_SSH_AGENT_WORKAROUND': 'true', 'GTK_MODULES': 'gail:atk-bridge', 'HOME': '/home/polk', 'INVOCATION_ID': '6be74726e2b642aa9c2d7dfe09f5585d', 'JOURNAL_STREAM': '8:19650', 'LANG': 'en_US.UTF-8', 'LESS': '-R', 'LOGNAME': 'polk', 'LSCOLORS': 'Gxfxcxdxbxegedabagacad', 'MANAGERPID': '1895', 'MEMORY_PRESSURE_WATCH': '/sys/fs/cgroup/user.slice/user-1000.slice/user@1000.service/session.slice/org.gnome.Shell@x11.service/memory.pressure', 'MEMORY_PRESSURE_WRITE': 'c29tZSAyMDAwMDAgMjAwMDAwMAA=', 'OLDPWD': '/home/polk', 'ORIGINAL_XDG_CURRENT_DESKTOP': 'ubuntu:GNOME', 'PAGER': 'cat', 'PATH': '/home/polk/Documents/git_repos/angular-react-starter/.venv/bin:/usr/local/sbin:/usr/local/bin:/usr/sbin:/usr/bin:/sbin:/bin:/usr/games:/usr/local/games:/snap/bin:/snap/bin', 'PWD': '/home/polk', 'QT_ACCESSIBILITY': '1', 'QT_IM_MODULE': 'ibus', 'SESSION_MANAGER': 'local/polk:@/tmp/.ICE-unix/2584,unix/polk:/tmp/.ICE-unix/2584', 'SHELL': '/usr/bin/zsh', 'SHLVL': '0', 'SSH_AUTH_SOCK': '/run/user/1000/keyring/ssh', 'SYSTEMD_EXEC_PID': '2624', 'USER': 'polk', 'USERNAME': 'polk', 'VSCODE_CODE_CACHE_PATH': '/home/polk/.config/Code/CachedData/65edc4939843c90c34d61f4ce11704f09d3e5cb6', 'VSCODE_CRASH_REPORTER_PROCESS_TYPE': 'extensionHost', 'VSCODE_CWD': '/home/polk', 'VSCODE_ESM_ENTRYPOINT': 'vs/workbench/api/node/extensionHostProcess', 'VSCODE_HANDLES_UNCAUGHT_ERRORS': 'true', 'VSCODE_IPC_HOOK': '/run/user/1000/vscode-f0f2a6ed-1.95-main.sock', 'VSCODE_NLS_CONFIG': '{\"userLocale\":\"en-us\",\"osLocale\":\"en-us\",\"resolvedLanguage\":\"en\",\"defaultMessagesFile\":\"/usr/share/code/resources/app/out/nls.messages.json\",\"locale\":\"en-us\",\"availableLanguages\":{}}', 'VSCODE_PID': '25207', 'WINDOWPATH': '2', 'XAUTHORITY': '/run/user/1000/gdm/Xauthority', 'XDG_CONFIG_DIRS': '/etc/xdg/xdg-ubuntu:/etc/xdg', 'XDG_CURRENT_DESKTOP': 'Unity', 'XDG_DATA_DIRS': '/usr/share/ubuntu:/usr/share/gnome:/home/polk/.local/share/flatpak/exports/share:/var/lib/flatpak/exports/share:/usr/local/share/:/usr/share/:/var/lib/snapd/desktop', 'XDG_MENU_PREFIX': 'gnome-', 'XDG_RUNTIME_DIR': '/run/user/1000', 'XDG_SESSION_CLASS': 'user', 'XDG_SESSION_DESKTOP': 'ubuntu', 'XDG_SESSION_TYPE': 'x11', 'XMODIFIERS': '@im=ibus', 'ZSH': '/home/polk/.oh-my-zsh', 'ZSH_CACHE_DIR': '/home/polk/.cache', '_': '/home/polk/Documents/git_repos/angular-react-starter/.venv/bin/python', 'ELECTRON_RUN_AS_NODE': '1', 'VSCODE_L10N_BUNDLE_LOCATION': '', 'PYTHONUNBUFFERED': '1', 'VIRTUAL_ENV': '/home/polk/Documents/git_repos/angular-react-starter/.venv', 'PYTHONIOENCODING': 'utf-8', 'VIRTUAL_ENV_PROMPT': '(.venv) ', 'PS1': '(.venv) ', 'PYDEVD_IPYTHON_COMPATIBLE_DEBUGGING': '1', 'PYTHON_FROZEN_MODULES': 'on', 'PYDEVD_USE_FRAME_EVAL': 'NO', 'TERM': 'xterm-color', 'CLICOLOR': '1', 'FORCE_COLOR': '1', 'CLICOLOR_FORCE': '1', 'GIT_PAGER': 'cat', 'MPLBACKEND': 'module://matplotlib_inline.backend_inline', 'MAIL_FROM': 'aleksei.melinic@gmail.com', 'MAIL_TO': 'aleksei.melinic@gmail.com', 'SMTP_USERNAME': 'aleksei.melinic@gmail.com', 'SMTP_PASSWORD': 'otxj wcmf kdvf iyrz'})\n"
     ]
    }
   ],
   "source": [
    "json_data={\"MAIL_FROM\": \"aleksei.melinic@gmail.com\", \"MAIL_TO\": \"aleksei.melinic@gmail.com\", \"SMTP_USERNAME\": \"aleksei.melinic@gmail.com\", \"SMTP_PASSWORD\": \"otxj wcmf kdvf iyrz\"}\n",
    "import os\n",
    "\n",
    "for key, value in json_data.items():\n",
    "    # print(f'{key}={value}')\n",
    "    os.environ[key] = value\n",
    "print(os.environ)"
   ]
  },
  {
   "cell_type": "code",
   "execution_count": null,
   "metadata": {},
   "outputs": [],
   "source": []
  }
 ],
 "metadata": {
  "kernelspec": {
   "display_name": ".venv",
   "language": "python",
   "name": "python3"
  },
  "language_info": {
   "codemirror_mode": {
    "name": "ipython",
    "version": 3
   },
   "file_extension": ".py",
   "mimetype": "text/x-python",
   "name": "python",
   "nbconvert_exporter": "python",
   "pygments_lexer": "ipython3",
   "version": "3.12.3"
  }
 },
 "nbformat": 4,
 "nbformat_minor": 2
}
